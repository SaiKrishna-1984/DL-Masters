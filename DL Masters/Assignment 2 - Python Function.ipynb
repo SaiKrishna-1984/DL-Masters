{
 "cells": [
  {
   "cell_type": "markdown",
   "metadata": {},
   "source": [
    "## Problem Statement"
   ]
  },
  {
   "cell_type": "markdown",
   "metadata": {},
   "source": [
    "Q.1 Write a Python Program to implement your own myreduce() function which works exactly like\n",
    "Python's built-in function reduce()\n"
   ]
  },
  {
   "cell_type": "code",
   "execution_count": 1,
   "metadata": {},
   "outputs": [
    {
     "name": "stdout",
     "output_type": "stream",
     "text": [
      "Input Number (N):  50\n",
      "Result(Sum to N):  1275\n"
     ]
    }
   ],
   "source": [
    "def myReduce(n):\n",
    "        summ = 0\n",
    "        for i in range(n+1):\n",
    "            summ += i\n",
    "        print(\"Result(Sum to N): \",summ)\n",
    "\n",
    "n_char = input(\"Input Number (N):  \")\n",
    "n = int(n_char)\n",
    "\n",
    "myReduce(n)"
   ]
  },
  {
   "cell_type": "markdown",
   "metadata": {},
   "source": [
    "Q.2 Write a Python program to implement your own myfilter() function which works exactly like\n",
    "Python's built-in function filter()"
   ]
  },
  {
   "cell_type": "code",
   "execution_count": 2,
   "metadata": {},
   "outputs": [],
   "source": [
    "import math\n",
    "\n",
    "def myPrimeFunc(n):\n",
    "    result = True\n",
    "    \n",
    "    if n==0 or n==1:\n",
    "        result = False\n",
    "    else:\n",
    "        for i in range(3, math.ceil(math.sqrt(n))+1,2):\n",
    "            if n % i == 0 or n % 2 == 0:    \n",
    "                result = False\n",
    "                break\n",
    "\n",
    "    return result"
   ]
  },
  {
   "cell_type": "code",
   "execution_count": 3,
   "metadata": {},
   "outputs": [
    {
     "name": "stdout",
     "output_type": "stream",
     "text": [
      "Base  [0, 1, 2, 3, 4, 5, 6, 7, 8, 9, 10, 11, 12, 13, 14, 15, 16, 17, 18, 19, 20, 21, 22, 23, 24]\n",
      "Result :  [2, 3, 4, 5, 7, 11, 13, 17, 19, 23]\n"
     ]
    }
   ],
   "source": [
    "List = list(range(25))\n",
    "print(\"Base \", List)\n",
    "\n",
    "FList = []\n",
    "FList = [i     for i in List    if myPrimeFunc(i)]\n",
    "\n",
    "print(\"Result : \",FList)"
   ]
  },
  {
   "cell_type": "code",
   "execution_count": 4,
   "metadata": {},
   "outputs": [
    {
     "name": "stdout",
     "output_type": "stream",
     "text": [
      "Base  [1, 2, 3, 4, 5, 6, 7, 8, 9, 10, 11, 12, 13, 14, 15, 16, 17, 18, 19, 20, 21, 22, 23, 24]\n",
      "Even Filter list  [2, 4, 6, 8, 10, 12, 14, 16, 18, 20, 22, 24]\n",
      "Prime Filter List  [2, 3, 4, 5, 7, 11, 13, 17, 19, 23]\n"
     ]
    }
   ],
   "source": [
    "def myFilter(mFunc,mList):\n",
    "    mFList = []\n",
    "    mFList = [i     for i in List    if mFunc(i)]\n",
    "    \n",
    "    return mFList\n",
    "\n",
    "List = list(range(1,25))\n",
    "print(\"Base \", List)\n",
    "\n",
    "List1 = list(myFilter(lambda x: x%2==0,List))\n",
    "print(\"Even Filter list \",List1)\n",
    "\n",
    "\n",
    "List2 = list(myFilter(myPrimeFunc,List))\n",
    "print(\"Prime Filter List \",List2)"
   ]
  },
  {
   "cell_type": "markdown",
   "metadata": {},
   "source": [
    "Q.3 Implement List comprehensions to produce the following lists.\n",
    "   Write List comprehensions to produce the following Lists\n",
    "   \n",
    "    ['A', 'C', 'A', 'D', 'G', 'I', ’L’, ‘ D’]\n",
    "   \n",
    "    ['x', 'xx', 'xxx', 'xxxx', 'y', 'yy', 'yyy', 'yyyy', 'z', 'zz', 'zzz', 'zzzz']\n",
    "\n",
    "    ['x', 'y', 'z', 'xx', 'yy', 'zz', 'xx', 'yy', 'zz', 'xxxx', 'yyyy', 'zzzz']\n",
    "    \n",
    "    [[2], [3], [4], [3], [4], [5], [4], [5], [6]]\n",
    "\n",
    "    [[2, 3, 4, 5], [3, 4, 5, 6], [4, 5, 6, 7], [5, 6, 7, 8]]\n",
    "\n",
    "    [(1, 1), (2, 1), (3, 1), (1, 2), (2, 2), (3, 2), (1, 3), (2, 3), (3, 3)]"
   ]
  },
  {
   "cell_type": "code",
   "execution_count": 5,
   "metadata": {},
   "outputs": [
    {
     "data": {
      "text/plain": [
       "['A', 'C', 'A', 'D', 'G', 'I', 'L', 'D']"
      ]
     },
     "execution_count": 5,
     "metadata": {},
     "output_type": "execute_result"
    }
   ],
   "source": [
    "List_Comp1 = [letter for letter in 'ACADGILD' ]\n",
    "List_Comp1"
   ]
  },
  {
   "cell_type": "code",
   "execution_count": 6,
   "metadata": {},
   "outputs": [
    {
     "data": {
      "text/plain": [
       "['x', 'xx', 'xxx', 'xxxx', 'y', 'yy', 'yyy', 'yyyy', 'z', 'zz', 'zzz', 'zzzz']"
      ]
     },
     "execution_count": 6,
     "metadata": {},
     "output_type": "execute_result"
    }
   ],
   "source": [
    "List_Comp2 = []\n",
    "for char in 'xyz':\n",
    "    element = ''\n",
    "    for i in range(4):\n",
    "        element += char\n",
    "        List_Comp2.append(element)\n",
    "List_Comp2"
   ]
  },
  {
   "cell_type": "markdown",
   "metadata": {},
   "source": [
    "Q.4 Implement a function longestWord() that takes a list of words and returns the longest one."
   ]
  },
  {
   "cell_type": "code",
   "execution_count": 7,
   "metadata": {},
   "outputs": [
    {
     "data": {
      "text/plain": [
       "['x', 'y', 'z', 'xx', 'yy', 'zz', 'xxx', 'yyy', 'zzz', 'xxxx', 'yyyy', 'zzzz']"
      ]
     },
     "execution_count": 7,
     "metadata": {},
     "output_type": "execute_result"
    }
   ],
   "source": [
    "List_Comp3 = []\n",
    "\n",
    "for i in range(1,5):\n",
    "    for char in 'xyz':\n",
    "        element = ''\n",
    "        for k in range(0,i):\n",
    "            element += char\n",
    "        List_Comp3.append(element)\n",
    "List_Comp3"
   ]
  },
  {
   "cell_type": "code",
   "execution_count": 8,
   "metadata": {},
   "outputs": [
    {
     "data": {
      "text/plain": [
       "[[2], [3], [4], [3], [4], [5], [4], [5], [6]]"
      ]
     },
     "execution_count": 8,
     "metadata": {},
     "output_type": "execute_result"
    }
   ],
   "source": [
    "List_Comp4 = []\n",
    "\n",
    "for i in range(2,5):   \n",
    "    for k in range(3):\n",
    "        element =[]\n",
    "        element.append(i)\n",
    "        i +=1\n",
    "        List_Comp4.append(element)\n",
    "List_Comp4"
   ]
  },
  {
   "cell_type": "code",
   "execution_count": 9,
   "metadata": {},
   "outputs": [
    {
     "data": {
      "text/plain": [
       "[[2, 3, 4, 5], [3, 4, 5, 6], [4, 5, 6, 7], [5, 6, 7, 8]]"
      ]
     },
     "execution_count": 9,
     "metadata": {},
     "output_type": "execute_result"
    }
   ],
   "source": [
    "List_Comp5 = []\n",
    "\n",
    "for i in range(2,6):\n",
    "    element =[]\n",
    "    for k in range(4):\n",
    "        element.append(i)\n",
    "        i +=1\n",
    "    List_Comp5.append(element)   \n",
    "    \n",
    "List_Comp5"
   ]
  },
  {
   "cell_type": "code",
   "execution_count": 10,
   "metadata": {},
   "outputs": [
    {
     "data": {
      "text/plain": [
       "[(1, 1), (2, 1), (3, 1), (1, 2), (2, 2), (3, 2), (1, 3), (2, 3), (3, 3)]"
      ]
     },
     "execution_count": 10,
     "metadata": {},
     "output_type": "execute_result"
    }
   ],
   "source": [
    "List_Comp6 = []\n",
    "\n",
    "for i in range(1,4):\n",
    "    for j in range(1,4):\n",
    "        element = (j,i)\n",
    "        List_Comp6.append(element)   \n",
    "    \n",
    "List_Comp6"
   ]
  },
  {
   "cell_type": "markdown",
   "metadata": {},
   "source": [
    "Q.5 Write a Python Program(with class concepts) to find the area of the triangle using the below\n",
    "formula.\n",
    "\n",
    "area = (s*(s-a)*(s-b)*(s-c)) ** 0.5\n",
    "\n",
    "Function to take the length of the sides of triangle from user should be defined in the parent\n",
    "class and function to calculate the area should be defined in subclass."
   ]
  },
  {
   "cell_type": "code",
   "execution_count": 11,
   "metadata": {},
   "outputs": [],
   "source": [
    "class triangle:\n",
    "    def __init__(self, a , b , c):\n",
    "        self.a = a\n",
    "        self.b = b\n",
    "        self.c = c\n",
    "       \n",
    "    def area(self):\n",
    "        s = 0.5 * (self.a + self.b + self.c)\n",
    "        return  (s * (s-self.a) * (s-self.b) * (s-self.c)) ** 0.5"
   ]
  },
  {
   "cell_type": "code",
   "execution_count": 12,
   "metadata": {},
   "outputs": [
    {
     "data": {
      "text/plain": [
       "6.0"
      ]
     },
     "execution_count": 12,
     "metadata": {},
     "output_type": "execute_result"
    }
   ],
   "source": [
    "\n",
    "t = triangle(3,4,5)\n",
    "t.area()"
   ]
  },
  {
   "cell_type": "markdown",
   "metadata": {},
   "source": [
    "Q.6 Write a function filter_long_words() that takes a list of words and an integer n and returns the list\n",
    "of words that are longer than n."
   ]
  },
  {
   "cell_type": "code",
   "execution_count": 13,
   "metadata": {},
   "outputs": [
    {
     "name": "stdout",
     "output_type": "stream",
     "text": [
      "Base   : ['Monkey', 'Donkey', 'Funky', 'Top', 'Blue']\n",
      "Result : ['Monkey', 'Donkey']\n"
     ]
    }
   ],
   "source": [
    "def isLongWord(Word, n=5):\n",
    "    Letters = [letter for letter in Word ]\n",
    "    if len(Letters) > n:\n",
    "        return True\n",
    "    return False\n",
    "\n",
    "List = ['Monkey', 'Donkey', 'Funky', 'Top', 'Blue']\n",
    "print(\"Base   :\", List)\n",
    "\n",
    "FList = list(filter(isLongWord,List))\n",
    "print(\"Result :\",FList)"
   ]
  },
  {
   "cell_type": "code",
   "execution_count": 14,
   "metadata": {},
   "outputs": [
    {
     "name": "stdout",
     "output_type": "stream",
     "text": [
      "Result : ['Monkey', 'Donkey', 'Funky']\n"
     ]
    }
   ],
   "source": [
    "FList = []\n",
    "FList = [Word  for Word in List   if isLongWord(Word, n=4) ]\n",
    "print(\"Result :\",FList)"
   ]
  },
  {
   "cell_type": "markdown",
   "metadata": {},
   "source": [
    "Q.7 Write a Python program using function concept that maps list of words into a list of integers\n",
    "representing the lengths of the corresponding words.\n",
    "    \n",
    "    Hint: If a list [ ab,cde,erty] is passed on to the python function output should come as [2,3,4]\n",
    "    Here 2,3 and 4 are the lengths of the words in the list."
   ]
  },
  {
   "cell_type": "code",
   "execution_count": 15,
   "metadata": {},
   "outputs": [
    {
     "name": "stdout",
     "output_type": "stream",
     "text": [
      "Base   : ['Monkey', 'Donkey', 'Funky', 'Top', 'Blue']\n",
      "Result : [6, 6, 5, 3, 4]\n"
     ]
    }
   ],
   "source": [
    "\n",
    "def Length(Word):\n",
    "    Letters = [letter for letter in Word ]\n",
    "    return len(Letters)\n",
    "\n",
    "List = ['Monkey', 'Donkey', 'Funky', 'Top', 'Blue']\n",
    "print(\"Base   :\", List)\n",
    "\n",
    "FList = list(map(Length,List))\n",
    "print(\"Result :\",FList)"
   ]
  },
  {
   "cell_type": "markdown",
   "metadata": {},
   "source": [
    "Q.8 Write a Python function which takes a character (i.e. a string of length 1) and returns True if it is\n",
    "a vowel, False otherwise."
   ]
  },
  {
   "cell_type": "code",
   "execution_count": 16,
   "metadata": {},
   "outputs": [
    {
     "name": "stdout",
     "output_type": "stream",
     "text": [
      "Base   : ['p', 'K', 'O', 'a', 'G', 'u']\n",
      "Result : [False, False, True, True, False, True]\n"
     ]
    }
   ],
   "source": [
    "\n",
    "def isVowel(Letter):\n",
    "    if Letter.lower() in ['a','e','i','o','u']:\n",
    "        return True\n",
    "    return False\n",
    "\n",
    "List = ['p', 'K', 'O', 'a', 'G', 'u']\n",
    "print(\"Base   :\", List)\n",
    "\n",
    "FList = list(map(isVowel,List))\n",
    "print(\"Result :\",FList)"
   ]
  },
  {
   "cell_type": "markdown",
   "metadata": {},
   "source": [
    "## Great job!"
   ]
  }
 ],
 "metadata": {
  "kernelspec": {
   "display_name": "Python 3",
   "language": "python",
   "name": "python3"
  },
  "language_info": {
   "codemirror_mode": {
    "name": "ipython",
    "version": 3
   },
   "file_extension": ".py",
   "mimetype": "text/x-python",
   "name": "python",
   "nbconvert_exporter": "python",
   "pygments_lexer": "ipython3",
   "version": "3.7.3"
  }
 },
 "nbformat": 4,
 "nbformat_minor": 2
}
