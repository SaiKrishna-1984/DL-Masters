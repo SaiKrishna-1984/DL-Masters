{
 "cells": [
  {
   "cell_type": "markdown",
   "metadata": {},
   "source": [
    "# Assignments"
   ]
  },
  {
   "cell_type": "markdown",
   "metadata": {},
   "source": [
    "Q1. Write the Python function to get a string made of 4 copies of the last\n",
    "two characters of the specified string (length must be at least 2).\n",
    "\n",
    "    Sample function and result :\n",
    "    insert-end ('Python') -> abababab\n",
    "    insert-end('Exercises') -> jkjkjkjk"
   ]
  },
  {
   "cell_type": "code",
   "execution_count": 1,
   "metadata": {},
   "outputs": [],
   "source": [
    "def insert_end(str):\n",
    "    k = str[-2:]\n",
    "    result = k+k+k+k\n",
    "    return result"
   ]
  },
  {
   "cell_type": "code",
   "execution_count": 2,
   "metadata": {},
   "outputs": [
    {
     "data": {
      "text/plain": [
       "'onononon'"
      ]
     },
     "execution_count": 2,
     "metadata": {},
     "output_type": "execute_result"
    }
   ],
   "source": [
    "insert_end ('Python')"
   ]
  },
  {
   "cell_type": "code",
   "execution_count": 3,
   "metadata": {},
   "outputs": [
    {
     "data": {
      "text/plain": [
       "'eseseses'"
      ]
     },
     "execution_count": 3,
     "metadata": {},
     "output_type": "execute_result"
    }
   ],
   "source": [
    "insert_end ('Exercises')"
   ]
  },
  {
   "cell_type": "markdown",
   "metadata": {},
   "source": [
    "Q2. Write the python function to get a string made of its first three\n",
    "characters of a specified string. If the length of the string is less than 3\n",
    "then return the original string.\n",
    "    \n",
    "    Sample function and result :\n",
    "    first-three('ipy') -> ipy\n",
    "    first-three('python') -> pyt"
   ]
  },
  {
   "cell_type": "code",
   "execution_count": 4,
   "metadata": {},
   "outputs": [],
   "source": [
    "def first_three(str):\n",
    "    k = str\n",
    "    if len(str) > 3:\n",
    "        k = str[:3]\n",
    "    return k"
   ]
  },
  {
   "cell_type": "code",
   "execution_count": 5,
   "metadata": {},
   "outputs": [
    {
     "data": {
      "text/plain": [
       "'ipy'"
      ]
     },
     "execution_count": 5,
     "metadata": {},
     "output_type": "execute_result"
    }
   ],
   "source": [
    "first_three('ipy')"
   ]
  },
  {
   "cell_type": "code",
   "execution_count": 6,
   "metadata": {},
   "outputs": [
    {
     "data": {
      "text/plain": [
       "'pyt'"
      ]
     },
     "execution_count": 6,
     "metadata": {},
     "output_type": "execute_result"
    }
   ],
   "source": [
    "first_three('python')"
   ]
  },
  {
   "cell_type": "markdown",
   "metadata": {},
   "source": [
    "Q3. Write the Python program to find smallest window that contains all\n",
    "characters of the given string?\n",
    "\n",
    "    Original Strings:\n",
    "    asdaewsqgtwwsa\n",
    "    Smallest window that contains all characters of the said string:\n",
    "    Daewsqgt"
   ]
  },
  {
   "cell_type": "code",
   "execution_count": 7,
   "metadata": {},
   "outputs": [],
   "source": [
    "def CalcMinWindow(sample):\n",
    "    string    = sample.lower()\n",
    "    search    = set(string)\n",
    "    length    = len(string)\n",
    "\n",
    "\n",
    "    # First Dictionary - to get positions of all unique characters of MinWindow-Chars\n",
    "    my_dict = {}\n",
    "    for letter in search:\n",
    "        letter_count = string.count(letter)\n",
    "        position     = string.find(letter)\n",
    "        for i in range(0, letter_count):\n",
    "            my_dict[position] = letter\n",
    "            position     = string.find(letter, position+1 , length)\n",
    "                \n",
    "    print(\"Search Char Positions: \", sorted (my_dict.items() ) )   # -- Printing Just for Reference\n",
    "\n",
    "   \n",
    "    window    = {}\n",
    "    positions = []\n",
    "    key_list = list(sorted (my_dict.keys() ))\n",
    "    j = 0\n",
    "        \n",
    "    # Second Dictionary - to get start and end positions and length of window    \n",
    "    for i in key_list:\n",
    "    \n",
    "        tmp_set   = set()\n",
    "        start_pos = 0\n",
    "        end_pos   = 0\n",
    "        \n",
    "        for k in key_list[j:]:\n",
    "            \n",
    "            if start_pos == 0:\n",
    "                start_pos = k\n",
    "        \n",
    "            if my_dict[k] not in tmp_set:\n",
    "                tmp_set.add(my_dict[k])      \n",
    "        \n",
    "            if tmp_set == search and end_pos == 0:\n",
    "                end_pos = k\n",
    "                positions =  [start_pos,end_pos]\n",
    "                window[end_pos-start_pos] = positions\n",
    "                j = j+1                 \n",
    "    \n",
    "    print(\"Window length and its Char Positions: \", sorted (window.items() ))\n",
    " \n",
    "    # Read Dictionary - to return least window   \n",
    "    for itm in sorted (window.items() ):\n",
    "        key,pos_list = itm\n",
    "        return sample[ pos_list[0]:pos_list[1]+1 ]\n",
    "        "
   ]
  },
  {
   "cell_type": "code",
   "execution_count": 8,
   "metadata": {},
   "outputs": [
    {
     "name": "stdout",
     "output_type": "stream",
     "text": [
      "Search Char Positions:  [(0, 'a'), (1, 's'), (2, 'd'), (3, 'a'), (4, 'e'), (5, 'w'), (6, 's'), (7, 'q'), (8, 'g'), (9, 't'), (10, 'w'), (11, 'w'), (12, 's'), (13, 'a')]\n",
      "Window length and its Char Positions:  [(7, [2, 9]), (8, [1, 9])]\n"
     ]
    },
    {
     "data": {
      "text/plain": [
       "'daewsqgt'"
      ]
     },
     "execution_count": 8,
     "metadata": {},
     "output_type": "execute_result"
    }
   ],
   "source": [
    "CalcMinWindow(\"asdaewsqgtwwsa\")"
   ]
  },
  {
   "cell_type": "markdown",
   "metadata": {},
   "source": [
    "Q4. Write the Python program to count number of substrings from a\n",
    "given string of lowercase alphabets with exactly k distinct (given)\n",
    "characters?\n",
    "\n",
    "    Input a string (lowercase alphabets): wolf\n",
    "    Input k: 4\n",
    "    Number of substrings with exactly 4 distinct characters: 1"
   ]
  },
  {
   "cell_type": "code",
   "execution_count": 9,
   "metadata": {},
   "outputs": [],
   "source": [
    "def CountDistSubstr(main_string,cnt):\n",
    "    main_string = main_string.lower()\n",
    "    str_set = set(main_string)\n",
    "    \n",
    "    \n",
    "    if len(main_string) == len(str_set) and len(main_string) == cnt:\n",
    "        return 1\n",
    "    elif cnt > len(str_set):\n",
    "        return 0\n",
    "    elif cnt < len(str_set):\n",
    "        \n",
    "        j = 0\n",
    "        for i in range(0,len(main_string)):\n",
    "            sub_str = main_string[i:]\n",
    "            tmp_set = set()\n",
    "            \n",
    "            for letter in sub_str:\n",
    "                \n",
    "                if letter in tmp_set:\n",
    "                    tmp_set = set()\n",
    "                    continue\n",
    "        \n",
    "                if letter not in tmp_set:\n",
    "                    tmp_set.add(letter)      \n",
    "        \n",
    "                if len(tmp_set) == cnt:\n",
    "                    j = j+1  \n",
    "                    tmp_set = set()\n",
    "                    break\n",
    "        return j"
   ]
  },
  {
   "cell_type": "code",
   "execution_count": 10,
   "metadata": {},
   "outputs": [
    {
     "data": {
      "text/plain": [
       "1"
      ]
     },
     "execution_count": 10,
     "metadata": {},
     "output_type": "execute_result"
    }
   ],
   "source": [
    "Input_String = \"wolf\"\n",
    "Input_K = 4\n",
    "\n",
    "CountDistSubstr(Input_String,Input_K)"
   ]
  },
  {
   "cell_type": "markdown",
   "metadata": {},
   "source": [
    "Q5. Write the Python program to count number of non-empty\n",
    "substrings of the given string?\n",
    "\n",
    "    Input a string: w3resource\n",
    "    Number of substrings:\n",
    "    55"
   ]
  },
  {
   "cell_type": "code",
   "execution_count": 11,
   "metadata": {},
   "outputs": [],
   "source": [
    "def CountSubstr(main_string):\n",
    "    main_string = main_string.lower()\n",
    "    str_set = set(main_string)\n",
    "           \n",
    "    j = 0\n",
    "    for i in range(0,len(main_string)):\n",
    "        sub_str = main_string[i:]\n",
    "            \n",
    "        for letter in sub_str:              \n",
    "            j = j+1\n",
    "    return j"
   ]
  },
  {
   "cell_type": "code",
   "execution_count": 12,
   "metadata": {},
   "outputs": [
    {
     "data": {
      "text/plain": [
       "55"
      ]
     },
     "execution_count": 12,
     "metadata": {},
     "output_type": "execute_result"
    }
   ],
   "source": [
    "Input  = \"w3resource\"\n",
    "\n",
    "CountSubstr(Input)"
   ]
  },
  {
   "cell_type": "markdown",
   "metadata": {},
   "source": [
    "Q6. Write the Python program to count the number of strings where the\n",
    "string length is 2 or more, and first and last character are same\n",
    "from a given list of strings.\n",
    "\n",
    "    Sample List : ['abc', 'xyz', 'wxw', '1331']\n",
    "    Expected Result: 2"
   ]
  },
  {
   "cell_type": "code",
   "execution_count": 13,
   "metadata": {},
   "outputs": [],
   "source": [
    "def CountSubstr(Sample_List):   \n",
    "    j = 0\n",
    "    for elem in Sample_List:           \n",
    "        if len(elem) >=2 and elem[0] == elem[-1]:\n",
    "            j = j+1\n",
    "    return j"
   ]
  },
  {
   "cell_type": "code",
   "execution_count": 14,
   "metadata": {},
   "outputs": [
    {
     "data": {
      "text/plain": [
       "2"
      ]
     },
     "execution_count": 14,
     "metadata": {},
     "output_type": "execute_result"
    }
   ],
   "source": [
    "Sample_List = ['abc', 'xyz', 'wxw', '1331']\n",
    "CountSubstr(Sample_List)"
   ]
  },
  {
   "cell_type": "markdown",
   "metadata": {},
   "source": [
    "Q7. Write the Python program to get a list, sorted in increasing order by\n",
    "the last element in each tuple from the given list of non-empty\n",
    "tuples?\n",
    "\n",
    "    Sample List - [ (2, 5), (1, 2), (4, 4), (2, 3), (2, 1) ]\n",
    "    Expected Result - [ (2, 1), (1, 2), (2, 3), (4, 4), (2, 5) ]"
   ]
  },
  {
   "cell_type": "code",
   "execution_count": 15,
   "metadata": {},
   "outputs": [],
   "source": [
    "def sort_list_tuple(sample_list):\n",
    "    \n",
    "    sorted_list = []\n",
    "    \n",
    "    elements = len(sample_list)\n",
    "    \n",
    "    for iteration in range(0,elements):\n",
    "        i = 0\n",
    "        for item in sample_list:\n",
    "            if i == 0:\n",
    "                sm_item = item\n",
    "                i = 1\n",
    "            if sm_item[1] > item[1]:\n",
    "                sm_item = item\n",
    "      \n",
    "        sample_list.remove(sm_item)\n",
    "        sorted_list.append(sm_item)    \n",
    "    \n",
    "    return (sorted_list)\n",
    "    "
   ]
  },
  {
   "cell_type": "code",
   "execution_count": 16,
   "metadata": {},
   "outputs": [
    {
     "data": {
      "text/plain": [
       "[(2, 1), (1, 2), (2, 3), (4, 4), (2, 5)]"
      ]
     },
     "execution_count": 16,
     "metadata": {},
     "output_type": "execute_result"
    }
   ],
   "source": [
    "sample_list = [ (2, 5), (1, 2), (4, 4), (2, 3), (2, 1) ]\n",
    "sort_list_tuple(sample_list)"
   ]
  },
  {
   "cell_type": "markdown",
   "metadata": {},
   "source": [
    "Q8. Write the Python program to remove duplicates from a list?"
   ]
  },
  {
   "cell_type": "code",
   "execution_count": 17,
   "metadata": {},
   "outputs": [],
   "source": [
    "def rmv_dup(sample_list): \n",
    "    \n",
    "    res_list = []\n",
    "    for elem in sample_list:\n",
    "        if sample_list.count(elem) >= 1 and res_list.count(elem) == 0:\n",
    "            res_list.append(elem)\n",
    "    \n",
    "    res_list.sort()\n",
    "    return (res_list)   "
   ]
  },
  {
   "cell_type": "code",
   "execution_count": 18,
   "metadata": {},
   "outputs": [
    {
     "data": {
      "text/plain": [
       "[1, 2, 3, 4, 5, 6, 7, 8]"
      ]
     },
     "execution_count": 18,
     "metadata": {},
     "output_type": "execute_result"
    }
   ],
   "source": [
    "sample_list = [1,2,3,4,2,5,2,5,6,7,3,5,3,6,8,3]\n",
    "rmv_dup(sample_list)"
   ]
  },
  {
   "cell_type": "markdown",
   "metadata": {},
   "source": [
    "Q9. Write the Python program to find the list of words that are longer\n",
    "than n from a given list of words?"
   ]
  },
  {
   "cell_type": "code",
   "execution_count": 19,
   "metadata": {},
   "outputs": [],
   "source": [
    "def rmv_largeElem(sample_list, n):    \n",
    "    res_list = []\n",
    "    for elem in sample_list:\n",
    "        if len(elem) > n:\n",
    "            res_list.append(elem)  \n",
    "    return (res_list)   "
   ]
  },
  {
   "cell_type": "code",
   "execution_count": 20,
   "metadata": {},
   "outputs": [
    {
     "data": {
      "text/plain": [
       "['kiwi', 'sheep', 'donkey', 'fish']"
      ]
     },
     "execution_count": 20,
     "metadata": {},
     "output_type": "execute_result"
    }
   ],
   "source": [
    "n=3\n",
    "sample_list = ['cat', 'bat', 'kiwi', 'sheep', 'donkey', 'fish']\n",
    "rmv_largeElem(sample_list, n)"
   ]
  },
  {
   "cell_type": "markdown",
   "metadata": {},
   "source": [
    "Q10. Write the Python program to print a specified list after removing the\n",
    "0th, 4th, and 5th elements?\n",
    "    \n",
    "    Sample List - ['Red', 'Green', 'White', 'Black', 'Pink', 'Yellow']\n",
    "    Expected Output - ['Green', 'White', 'Black']"
   ]
  },
  {
   "cell_type": "code",
   "execution_count": 21,
   "metadata": {},
   "outputs": [],
   "source": [
    "def rmv_SelElem(sample_list, n):    \n",
    "    rmv_list = []\n",
    "    \n",
    "    for i in n:\n",
    "        rmv_list.append(sample_list[i]) \n",
    "    \n",
    "    for i in rmv_list:\n",
    "        sample_list.remove(i)\n",
    "    \n",
    "    return (sample_list)   "
   ]
  },
  {
   "cell_type": "code",
   "execution_count": 22,
   "metadata": {},
   "outputs": [
    {
     "data": {
      "text/plain": [
       "['Green', 'White', 'Black']"
      ]
     },
     "execution_count": 22,
     "metadata": {},
     "output_type": "execute_result"
    }
   ],
   "source": [
    "n = [0,4,5]\n",
    "sample_list = ['Red', 'Green', 'White', 'Black', 'Pink', 'Yellow']\n",
    "rmv_SelElem(sample_list, n)"
   ]
  },
  {
   "cell_type": "markdown",
   "metadata": {},
   "source": [
    "Q11. Write the Python program to generate all permutations of a list in\n",
    "Python?"
   ]
  },
  {
   "cell_type": "code",
   "execution_count": 23,
   "metadata": {},
   "outputs": [
    {
     "data": {
      "text/plain": [
       "[(1, 2, 3), (1, 3, 2), (2, 1, 3), (2, 3, 1), (3, 1, 2), (3, 2, 1)]"
      ]
     },
     "execution_count": 23,
     "metadata": {},
     "output_type": "execute_result"
    }
   ],
   "source": [
    "from itertools import permutations \n",
    "\n",
    "sample_list = [1,2,3]\n",
    "\n",
    "res_list = list(permutations(sample_list))\n",
    "res_list"
   ]
  },
  {
   "cell_type": "code",
   "execution_count": 24,
   "metadata": {},
   "outputs": [
    {
     "data": {
      "text/plain": [
       "[(1, 2, 3, 4),\n",
       " (1, 2, 4, 3),\n",
       " (1, 3, 2, 4),\n",
       " (1, 3, 4, 2),\n",
       " (1, 4, 2, 3),\n",
       " (1, 4, 3, 2),\n",
       " (2, 1, 3, 4),\n",
       " (2, 1, 4, 3),\n",
       " (2, 3, 1, 4),\n",
       " (2, 3, 4, 1),\n",
       " (2, 4, 1, 3),\n",
       " (2, 4, 3, 1),\n",
       " (3, 1, 2, 4),\n",
       " (3, 1, 4, 2),\n",
       " (3, 2, 1, 4),\n",
       " (3, 2, 4, 1),\n",
       " (3, 4, 1, 2),\n",
       " (3, 4, 2, 1),\n",
       " (4, 1, 2, 3),\n",
       " (4, 1, 3, 2),\n",
       " (4, 2, 1, 3),\n",
       " (4, 2, 3, 1),\n",
       " (4, 3, 1, 2),\n",
       " (4, 3, 2, 1)]"
      ]
     },
     "execution_count": 24,
     "metadata": {},
     "output_type": "execute_result"
    }
   ],
   "source": [
    "sample_list = [1,2,3,4]\n",
    "res_list = list(permutations(sample_list))\n",
    "res_list"
   ]
  },
  {
   "cell_type": "markdown",
   "metadata": {},
   "source": [
    "Q12. Write the Python program to convert a pair of values into a sorted\n",
    "unique array?\n",
    " \n",
    "    Original List- [ (1, 2), (3, 4), (1, 2), (5, 6), (7, 8), (1, 2), (3, 4), (3, 4), (7, 8), (9, 10) ]\n",
    "    Sorted Unique Data- [ 1, 2, 3, 4, 5, 6, 7, 8, 9, 10 ] \n"
   ]
  },
  {
   "cell_type": "code",
   "execution_count": 25,
   "metadata": {},
   "outputs": [],
   "source": [
    "def break_list_tuples(sample_list):    \n",
    "    res_list = []\n",
    "    res_set = set()\n",
    "    \n",
    "    for i in sample_list:\n",
    "        a,b = i\n",
    "        res_set.add(a)\n",
    "        res_set.add(b)\n",
    "    \n",
    "    res_list = sorted(res_set)\n",
    "    return (res_list) "
   ]
  },
  {
   "cell_type": "code",
   "execution_count": 26,
   "metadata": {},
   "outputs": [
    {
     "data": {
      "text/plain": [
       "[1, 2, 3, 4, 5, 6, 7, 8, 9, 10]"
      ]
     },
     "execution_count": 26,
     "metadata": {},
     "output_type": "execute_result"
    }
   ],
   "source": [
    "sample_list = [ (1, 2), (3, 4), (1, 2), (5, 6), (7, 8), (1, 2), (3, 4), (3, 4), (7, 8), (9, 10) ]\n",
    "break_list_tuples(sample_list)"
   ]
  },
  {
   "cell_type": "markdown",
   "metadata": {},
   "source": [
    "## Great job!"
   ]
  }
 ],
 "metadata": {
  "kernelspec": {
   "display_name": "Python 3",
   "language": "python",
   "name": "python3"
  },
  "language_info": {
   "codemirror_mode": {
    "name": "ipython",
    "version": 3
   },
   "file_extension": ".py",
   "mimetype": "text/x-python",
   "name": "python",
   "nbconvert_exporter": "python",
   "pygments_lexer": "ipython3",
   "version": "3.7.6"
  }
 },
 "nbformat": 4,
 "nbformat_minor": 2
}
