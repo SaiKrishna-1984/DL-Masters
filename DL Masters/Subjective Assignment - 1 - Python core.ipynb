{
 "cells": [
  {
   "cell_type": "markdown",
   "metadata": {},
   "source": [
    "Q1. Write a Python program to get the string from the given string where\n",
    "all the occurrence of its first char has been changed to '$,' except first\n",
    "char itself?\n",
    "\n",
    "    Sample String: 'prospect'\n",
    "    Expected Result : 'pros$ect'\n"
   ]
  },
  {
   "cell_type": "code",
   "execution_count": 1,
   "metadata": {},
   "outputs": [
    {
     "data": {
      "text/plain": [
       "'pros$ect'"
      ]
     },
     "execution_count": 1,
     "metadata": {},
     "output_type": "execute_result"
    }
   ],
   "source": [
    "def chg_firstCharOcc(S, toChar):\n",
    "    R_S = S.replace(S[0], toChar)\n",
    "    New_S = S[0] + R_S[1:]\n",
    "    return New_S\n",
    "\n",
    "S = 'prospect'\n",
    "chg_firstCharOcc(S, '$')"
   ]
  },
  {
   "cell_type": "code",
   "execution_count": 2,
   "metadata": {},
   "outputs": [
    {
     "data": {
      "text/plain": [
       "'succe$$ful $uper$tar'"
      ]
     },
     "execution_count": 2,
     "metadata": {},
     "output_type": "execute_result"
    }
   ],
   "source": [
    "S = 'successful superstar'\n",
    "chg_firstCharOcc(S, '$')"
   ]
  },
  {
   "cell_type": "markdown",
   "metadata": {},
   "source": [
    "Q2. Write a Python program to get the single string from the two given\n",
    "strings, and separated by the space and swap the first two characters of\n",
    "each string?\n",
    "\n",
    "    Sample String : 'abc', 'xyz'.\n",
    "    Expected Result: 'xyc abz'"
   ]
  },
  {
   "cell_type": "code",
   "execution_count": 3,
   "metadata": {},
   "outputs": [
    {
     "data": {
      "text/plain": [
       "'xyc abz'"
      ]
     },
     "execution_count": 3,
     "metadata": {},
     "output_type": "execute_result"
    }
   ],
   "source": [
    "def swap(List):\n",
    "    k = List[0][:2]\n",
    "    List[0] = List[1][:2] + List[0][2:]\n",
    "    List[1] = k + List[1][2:]\n",
    "\n",
    "    return List[0]+' ' +List[1]\n",
    "\n",
    "List = ['abc','xyz']\n",
    "swap(List)"
   ]
  },
  {
   "cell_type": "markdown",
   "metadata": {},
   "source": [
    "Q3. Write the Python program to add 'ing' at the end of the given string\n",
    "(length of the string should be at least 3). If given string already ends\n",
    "with 'ing,' then add 'ly' instead. If string length of the given string is less\n",
    "than 3, leave it unchanged?\n",
    "\n",
    "\n",
    "    Sample string: ' abc '\n",
    "    Expected result: ' abcing '\n",
    "    Sample string: ' string '\n",
    "    Expected result: ' stringly '\n"
   ]
  },
  {
   "cell_type": "code",
   "execution_count": 4,
   "metadata": {},
   "outputs": [
    {
     "name": "stdout",
     "output_type": "stream",
     "text": [
      "abc    -->  abcing\n",
      "string -->  stringly\n",
      "he     -->  he\n"
     ]
    }
   ],
   "source": [
    "def swap(stringmap):\n",
    "    if len(stringmap) < 3:\n",
    "        S = stringmap\n",
    "    elif stringmap[-3:] == 'ing':\n",
    "        S = stringmap + 'ly'\n",
    "    else:\n",
    "        S = stringmap + 'ing'  \n",
    "\n",
    "    return S\n",
    "\n",
    "print('abc    --> ', swap('abc'))\n",
    "print('string --> ', swap('string'))\n",
    "print('he     --> ', swap('he'))"
   ]
  },
  {
   "cell_type": "markdown",
   "metadata": {},
   "source": [
    "Q4. Write the Python program to find the first appearance of the\n",
    "substring 'not' and 'poor' from the given string, if 'not' follows the 'poor',\n",
    "replace the whole 'not'...' poor' substring with 'good'.Return the resulting\n",
    "string.\n",
    "\n",
    "    Sample string: 'The lyrics are not that poor!'\n",
    "    'The lyrics are poor!'\n",
    "    Expected Result: 'The lyrics are good!'\n",
    "    'The lyrics are poor!'"
   ]
  },
  {
   "cell_type": "code",
   "execution_count": 5,
   "metadata": {},
   "outputs": [],
   "source": [
    "def replWords(sample):\n",
    "    i = sample.find('not')\n",
    "    k = sample.find('poor')\n",
    "    NewStr = sample\n",
    "    \n",
    "    if i > 0 and k > 0 and i < k:\n",
    "        NewStr = sample[:i] +  'good' + sample[k+4:] \n",
    "\n",
    "    return NewStr    "
   ]
  },
  {
   "cell_type": "code",
   "execution_count": 6,
   "metadata": {},
   "outputs": [
    {
     "data": {
      "text/plain": [
       "'The lyrics are good!'"
      ]
     },
     "execution_count": 6,
     "metadata": {},
     "output_type": "execute_result"
    }
   ],
   "source": [
    "sample = 'The lyrics are not that poor!'\n",
    "replWords(sample)"
   ]
  },
  {
   "cell_type": "code",
   "execution_count": 7,
   "metadata": {},
   "outputs": [
    {
     "data": {
      "text/plain": [
       "'The lyrics are poor!'"
      ]
     },
     "execution_count": 7,
     "metadata": {},
     "output_type": "execute_result"
    }
   ],
   "source": [
    "sample = 'The lyrics are poor!'\n",
    "replWords(sample)"
   ]
  },
  {
   "cell_type": "markdown",
   "metadata": {},
   "source": [
    "Q5. Write the Python program to remove the characters which have odd\n",
    "index values of a given string."
   ]
  },
  {
   "cell_type": "code",
   "execution_count": 8,
   "metadata": {},
   "outputs": [],
   "source": [
    "def removeOdd(sample):\n",
    "    Length = len(sample)\n",
    "    NewStr = ''\n",
    "    \n",
    "    for i in range(0, Length, 2):\n",
    "        NewStr =  NewStr + sample[i]\n",
    "\n",
    "    return NewStr "
   ]
  },
  {
   "cell_type": "code",
   "execution_count": 9,
   "metadata": {},
   "outputs": [
    {
     "data": {
      "text/plain": [
       "'Telrc r od'"
      ]
     },
     "execution_count": 9,
     "metadata": {},
     "output_type": "execute_result"
    }
   ],
   "source": [
    "sample = 'The lyrics are good!'\n",
    "removeOdd(sample)"
   ]
  },
  {
   "cell_type": "markdown",
   "metadata": {},
   "source": [
    "Q6. Write the python program to print the following floating numbers up\n",
    "to 2 decimal places?"
   ]
  },
  {
   "cell_type": "code",
   "execution_count": 10,
   "metadata": {},
   "outputs": [
    {
     "name": "stdout",
     "output_type": "stream",
     "text": [
      "Base List:  [0.3475, 3.1429365, 8.5556, 98.68643, 432.682389]\n",
      "Result List:  [0.35, 3.14, 8.56, 98.69, 432.68]\n"
     ]
    }
   ],
   "source": [
    "NumList = [0.3475, 3.1429365, 8.5556, 98.68643, 432.682389]\n",
    "ResList = list(map(lambda x: round(x,2), NumList))\n",
    "\n",
    "print('Base List: ', NumList )\n",
    "print('Result List: ', ResList )"
   ]
  },
  {
   "cell_type": "markdown",
   "metadata": {},
   "source": [
    "Q7. Write the Python program to format a number with a percentage?"
   ]
  },
  {
   "cell_type": "code",
   "execution_count": 11,
   "metadata": {},
   "outputs": [
    {
     "name": "stdout",
     "output_type": "stream",
     "text": [
      "Base List:  [0.3475, 3.1429365, 8.5556, 9.68643, 3.682389]\n",
      "Result List:  ['34.75%', '314.29%', '855.56%', '968.64%', '368.24%']\n"
     ]
    }
   ],
   "source": [
    "NumList = [0.3475, 3.1429365, 8.5556, 9.68643, 3.682389]\n",
    "ResList = list(map(lambda x: \"{:.2%}\".format(x), NumList))\n",
    "\n",
    "\n",
    "print('Base List: ', NumList )\n",
    "print('Result List: ', ResList )"
   ]
  },
  {
   "cell_type": "markdown",
   "metadata": {},
   "source": [
    "Q8. Write the Python program to count occurrences of a substring in a\n",
    "String?"
   ]
  },
  {
   "cell_type": "code",
   "execution_count": 12,
   "metadata": {},
   "outputs": [],
   "source": [
    "def countOccs(word,sample):\n",
    "    k = sample.count(word)\n",
    "    return k "
   ]
  },
  {
   "cell_type": "code",
   "execution_count": 13,
   "metadata": {},
   "outputs": [
    {
     "data": {
      "text/plain": [
       "3"
      ]
     },
     "execution_count": 13,
     "metadata": {},
     "output_type": "execute_result"
    }
   ],
   "source": [
    "countOccs('apple', 'An apple costs 25INR in India.But, an apple costs 20 cents in UK. Doctor says to eat an apple a day to stay healthy')"
   ]
  },
  {
   "cell_type": "markdown",
   "metadata": {},
   "source": [
    "Q9. Write the Python program to count repeated characters in a string.\n",
    "\n",
    "    Sample string: ' thequickbrownjumpsoverthelazydog '\n",
    "    \n",
    "    Expected output:\n",
    "    o 3\n",
    "    e 3\n",
    "    u 2\n",
    "    h 2\n",
    "    r 2\n",
    "    t 2"
   ]
  },
  {
   "cell_type": "code",
   "execution_count": 14,
   "metadata": {},
   "outputs": [],
   "source": [
    "def CountRepeatChars(sample):\n",
    "    string = [char for char in sample]\n",
    "    \n",
    "    List = []\n",
    "    for i in string:\n",
    "        k = string.count(i)\n",
    "        if k > 1 and i != ' ' and List.count(i) == 0:\n",
    "            print(i + ' ' + str(k))\n",
    "            List.append(i)"
   ]
  },
  {
   "cell_type": "code",
   "execution_count": 15,
   "metadata": {},
   "outputs": [
    {
     "name": "stdout",
     "output_type": "stream",
     "text": [
      "t 2\n",
      "h 2\n",
      "e 3\n",
      "u 2\n",
      "r 2\n",
      "o 3\n"
     ]
    }
   ],
   "source": [
    "sample = ' thequickbrownjumpsoverthelazydog '\n",
    "CountRepeatChars(sample)"
   ]
  },
  {
   "cell_type": "markdown",
   "metadata": {},
   "source": [
    "Q10. Write the Python program to print the square and cube symbol in the area of a rectangle and volume of a cylinder?\n",
    "\n",
    "    Sample output\n",
    "    The area of the rectangle is 1256.66cm2\n",
    "    The volume of the cylinder is 1254.725cm3\n"
   ]
  },
  {
   "cell_type": "code",
   "execution_count": 16,
   "metadata": {},
   "outputs": [
    {
     "name": "stdout",
     "output_type": "stream",
     "text": [
      "The area of the rectangle is 1256.66cm²\n",
      "The volume of the cylinder is 1254.725cm³\n"
     ]
    }
   ],
   "source": [
    "area   = 1256.66\n",
    "volume = 1254.725\n",
    "\n",
    "decimals = 2\n",
    "print(\"The area of the rectangle is {0:.{1}f}cm\\u00b2\".format(area, decimals))\n",
    "\n",
    "decimals = 3\n",
    "print(\"The volume of the cylinder is {0:.{1}f}cm\\u00b3\".format(volume, decimals))"
   ]
  },
  {
   "cell_type": "markdown",
   "metadata": {},
   "source": [
    "Q11. Write the Python program to check if a string contains all letters of\n",
    "the alphabet?"
   ]
  },
  {
   "cell_type": "code",
   "execution_count": 17,
   "metadata": {},
   "outputs": [],
   "source": [
    "import string\n",
    "\n",
    "def ChkStrAllAlpha(sample):\n",
    "    alphabet = set(string.ascii_lowercase)\n",
    "    if (set(input_string.lower()) >= alphabet):\n",
    "        return True\n",
    "    else:\n",
    "        return False"
   ]
  },
  {
   "cell_type": "code",
   "execution_count": 18,
   "metadata": {},
   "outputs": [
    {
     "data": {
      "text/plain": [
       "True"
      ]
     },
     "execution_count": 18,
     "metadata": {},
     "output_type": "execute_result"
    }
   ],
   "source": [
    "input_string = 'The quick brown fox jumps over the lazy dog'\n",
    "\n",
    "\n",
    "ChkStrAllAlpha(input_string)"
   ]
  },
  {
   "cell_type": "code",
   "execution_count": 19,
   "metadata": {},
   "outputs": [
    {
     "name": "stdout",
     "output_type": "stream",
     "text": [
      "{'a', 'e', 'n', 'i', 'r', 'c', 'f', 'y', 'l', 'w', 'x', 'p', 'o', 'h', ' ', 'g', 'v', 't', 'z', 'b', 'u', 'q', 'm', 'j', 's', 'd', 'k'}\n"
     ]
    }
   ],
   "source": [
    "print( set(input_string.lower()) )"
   ]
  },
  {
   "cell_type": "code",
   "execution_count": 20,
   "metadata": {},
   "outputs": [
    {
     "data": {
      "text/plain": [
       "False"
      ]
     },
     "execution_count": 20,
     "metadata": {},
     "output_type": "execute_result"
    }
   ],
   "source": [
    "input_string = 'The quick brown fox jumps over the lazy cat'\n",
    "\n",
    "ChkStrAllAlpha(input_string)"
   ]
  },
  {
   "cell_type": "code",
   "execution_count": 21,
   "metadata": {},
   "outputs": [
    {
     "name": "stdout",
     "output_type": "stream",
     "text": [
      "{'a', 'e', 'n', 'i', 'r', 'c', 'f', 'y', 'l', 'w', 'x', 'p', 'o', 'h', ' ', 'v', 't', 'z', 'b', 'u', 'q', 'm', 'j', 's', 'k'}\n"
     ]
    }
   ],
   "source": [
    "print( set(input_string.lower()) )"
   ]
  },
  {
   "cell_type": "markdown",
   "metadata": {},
   "source": [
    "Q12. Write the Python program to find the second most repeated word\n",
    "in a given string?"
   ]
  },
  {
   "cell_type": "code",
   "execution_count": 22,
   "metadata": {},
   "outputs": [],
   "source": [
    "def ChkRepeatWords(sample):\n",
    "    sample = sample.lower()\n",
    "    \n",
    "    for punct in [\",\"  ,  '.'  ,  \"'\"  ,  \"!\"]: \n",
    "        sample = sample.replace(punct, ' ')\n",
    "    string = list(sample.split())\n",
    "    \n",
    "    \n",
    "    my_dict = {}\n",
    "    List = []\n",
    "    for i in string:\n",
    "        k = string.count(i)\n",
    "        if k > 1 and List.count(i) == 0:\n",
    "            my_dict[k] = i\n",
    "            List.append(i)\n",
    "    \n",
    "    print(my_dict) # THIS IS JUST FOR CLARITY - ALTHOUGH NOT IN REQUIREMENT - CAN BE REMOVED.\n",
    "    \n",
    "    k = 1\n",
    "    length = len(my_dict.keys())\n",
    "    for i in sorted (my_dict.keys()):\n",
    "        if k == length - 1:\n",
    "            return my_dict[i]\n",
    "        k = k+1"
   ]
  },
  {
   "cell_type": "code",
   "execution_count": 23,
   "metadata": {},
   "outputs": [
    {
     "name": "stdout",
     "output_type": "stream",
     "text": [
      "{5: 'i', 4: 'happy', 2: 'because'}\n"
     ]
    },
    {
     "data": {
      "text/plain": [
       "'happy'"
      ]
     },
     "execution_count": 23,
     "metadata": {},
     "output_type": "execute_result"
    }
   ],
   "source": [
    "S = \"I felt happy because I saw the others were happy and because I knew I should feel happy, but I wasn’t really happy.\"\n",
    "ChkRepeatWords(S)"
   ]
  },
  {
   "cell_type": "code",
   "execution_count": 24,
   "metadata": {},
   "outputs": [
    {
     "name": "stdout",
     "output_type": "stream",
     "text": [
      "{3: 'star', 2: 'and', 4: 'a'}\n"
     ]
    },
    {
     "data": {
      "text/plain": [
       "'star'"
      ]
     },
     "execution_count": 24,
     "metadata": {},
     "output_type": "execute_result"
    }
   ],
   "source": [
    "S =  \"Every person had a star, every star had a friend, and for every person carrying a star there was someone else who reflected it, and everyone carried this reflection like a secret confidante in the heart.\"\n",
    "ChkRepeatWords(S)"
   ]
  },
  {
   "cell_type": "markdown",
   "metadata": {},
   "source": [
    "Q13. Write the Python program to find the minimum window in the given\n",
    "string, which will contains all the characters of another given\n",
    "strings?\n",
    "\n",
    "    Example 1\n",
    "    Input : string1 = \" PRWSOERIUSFK \"\n",
    "    string2 = \" OSU \"\n",
    "    Output: Minimum window is \"OERIUS\""
   ]
  },
  {
   "cell_type": "code",
   "execution_count": 25,
   "metadata": {},
   "outputs": [],
   "source": [
    "def CalcMinWindow(sample,search):\n",
    "    string    = sample.upper()\n",
    "    search    = set(search.upper())\n",
    "    length    = len(string)\n",
    "    search.remove(' ')\n",
    "\n",
    "    # First Dictionary - to get positions of all unique characters of MinWindow-Chars\n",
    "    my_dict = {}\n",
    "    for letter in search:\n",
    "        letter_count = string.count(letter)\n",
    "        position     = string.find(letter)\n",
    "        for i in range(0, letter_count):\n",
    "            my_dict[position] = letter\n",
    "            position     = string.find(letter, position+1 , length)\n",
    "                \n",
    "    print(\"Search Char Positions: \", sorted (my_dict.items() ) )   # -- Printing Just for Reference\n",
    "\n",
    "   \n",
    "    window    = {}\n",
    "    positions = []\n",
    "    key_list = list(sorted (my_dict.keys() ))\n",
    "    j = 0\n",
    "        \n",
    "    # Second Dictionary - to get start and end positions and length of window    \n",
    "    for i in key_list:\n",
    "    \n",
    "        tmp_set   = set()\n",
    "        start_pos = 0\n",
    "        end_pos   = 0\n",
    "        \n",
    "        for k in key_list[j:]:\n",
    "            \n",
    "            if start_pos == 0:\n",
    "                start_pos = k\n",
    "        \n",
    "            if my_dict[k] not in tmp_set:\n",
    "                tmp_set.add(my_dict[k])      \n",
    "        \n",
    "            if tmp_set == search and end_pos == 0:\n",
    "                end_pos = k\n",
    "                positions =  [start_pos,end_pos]\n",
    "                window[end_pos-start_pos] = positions\n",
    "                j = j+1                 \n",
    "    \n",
    "    print(\"Min Window length and Char Positions: \", sorted (window.items() ))\n",
    " \n",
    "    # Read Dictionary - to return least window   \n",
    "    for itm in sorted (window.items() ):\n",
    "        key,pos_list = itm\n",
    "        return sample[ pos_list[0]:pos_list[1]+1 ]\n",
    "        "
   ]
  },
  {
   "cell_type": "code",
   "execution_count": 26,
   "metadata": {},
   "outputs": [
    {
     "name": "stdout",
     "output_type": "stream",
     "text": [
      "Search Char Positions:  [(4, 'S'), (5, 'O'), (9, 'U'), (10, 'S')]\n",
      "Min Window length and Char Positions:  [(5, [5, 10])]\n"
     ]
    },
    {
     "data": {
      "text/plain": [
       "'OERIUS'"
      ]
     },
     "execution_count": 26,
     "metadata": {},
     "output_type": "execute_result"
    }
   ],
   "source": [
    "Input  = \" PRWSOERIUSFK \"\n",
    "search = \" OSU \"\n",
    "\n",
    "\n",
    "#Output: Minimum window is \"OERIUS\"\n",
    "CalcMinWindow(Input, search )"
   ]
  },
  {
   "cell_type": "code",
   "execution_count": 27,
   "metadata": {},
   "outputs": [
    {
     "name": "stdout",
     "output_type": "stream",
     "text": [
      "Search Char Positions:  [(4, 'S'), (5, 'O'), (9, 'U'), (11, 'S')]\n",
      "Min Window length and Char Positions:  [(5, [4, 9]), (6, [5, 11])]\n"
     ]
    },
    {
     "data": {
      "text/plain": [
       "'SOERIU'"
      ]
     },
     "execution_count": 27,
     "metadata": {},
     "output_type": "execute_result"
    }
   ],
   "source": [
    "Input  = \" PRWSOERIUFSFK \"  # Changed string.\n",
    "search = \" OSU \"\n",
    "\n",
    "\n",
    "#Output: Minimum window is \"OERIUS\"\n",
    "CalcMinWindow(Input, search)"
   ]
  },
  {
   "cell_type": "markdown",
   "metadata": {},
   "source": [
    "Q14. Write the Python program to count number of substrings from a\n",
    "given string of lowercase alphabets with exactly k distinct (given)\n",
    "characters?\n",
    "\n",
    "    Input a string (lowercase alphabets): wolf\n",
    "    Input k: 4\n",
    "    Number of substrings with exactly 4 distinct characters: 1"
   ]
  },
  {
   "cell_type": "code",
   "execution_count": 28,
   "metadata": {},
   "outputs": [],
   "source": [
    "def CountSubstr(main_string,cnt):\n",
    "    main_string = main_string.lower()\n",
    "    str_set = set(main_string)\n",
    "    \n",
    "    \n",
    "    if len(main_string) == len(str_set) and len(main_string) == cnt:\n",
    "        return 1\n",
    "    elif cnt > len(str_set):\n",
    "        return 0\n",
    "    elif cnt < len(str_set):\n",
    "        \n",
    "        j = 0\n",
    "        for i in range(0,len(main_string)):\n",
    "            sub_str = main_string[i:]\n",
    "            tmp_set = set()\n",
    "            \n",
    "            for letter in sub_str:\n",
    "                \n",
    "                if letter in tmp_set:\n",
    "                    tmp_set = set()\n",
    "                    continue\n",
    "        \n",
    "                if letter not in tmp_set:\n",
    "                    tmp_set.add(letter)      \n",
    "        \n",
    "                if len(tmp_set) == cnt:\n",
    "                    j = j+1  \n",
    "                    tmp_set = set()\n",
    "                    break\n",
    "        return j"
   ]
  },
  {
   "cell_type": "code",
   "execution_count": 29,
   "metadata": {},
   "outputs": [
    {
     "data": {
      "text/plain": [
       "1"
      ]
     },
     "execution_count": 29,
     "metadata": {},
     "output_type": "execute_result"
    }
   ],
   "source": [
    "Input  = \"wolf\"\n",
    "Cnt = 4\n",
    "\n",
    "\n",
    "CountSubstr(Input, Cnt )"
   ]
  },
  {
   "cell_type": "code",
   "execution_count": 30,
   "metadata": {},
   "outputs": [
    {
     "data": {
      "text/plain": [
       "0"
      ]
     },
     "execution_count": 30,
     "metadata": {},
     "output_type": "execute_result"
    }
   ],
   "source": [
    "Input  = \"wolfs\"\n",
    "Cnt = 6\n",
    "\n",
    "CountSubstr(Input, Cnt )"
   ]
  },
  {
   "cell_type": "code",
   "execution_count": 31,
   "metadata": {},
   "outputs": [
    {
     "data": {
      "text/plain": [
       "3"
      ]
     },
     "execution_count": 31,
     "metadata": {},
     "output_type": "execute_result"
    }
   ],
   "source": [
    "Input  = \"hatsoff\"\n",
    "Cnt = 4\n",
    "\n",
    "CountSubstr(Input, Cnt )"
   ]
  },
  {
   "cell_type": "markdown",
   "metadata": {},
   "source": [
    "Q15. Write the Python program to count number of substrings with same\n",
    "first and last characters of the given string?\n",
    "\n",
    "    Input a string: abcd\n",
    "    4\n"
   ]
  },
  {
   "cell_type": "code",
   "execution_count": 32,
   "metadata": {},
   "outputs": [],
   "source": [
    "def CountSubstr(main_string):\n",
    "    main_string = main_string.lower()\n",
    "    str_set = set(main_string)\n",
    "           \n",
    "    j = 0\n",
    "    for i in range(0,len(main_string)):\n",
    "        sub_str = main_string[i:]\n",
    "            \n",
    "        for letter in sub_str:              \n",
    "            if letter == sub_str[0]:\n",
    "                j = j+1\n",
    "    return j"
   ]
  },
  {
   "cell_type": "code",
   "execution_count": 33,
   "metadata": {},
   "outputs": [
    {
     "data": {
      "text/plain": [
       "4"
      ]
     },
     "execution_count": 33,
     "metadata": {},
     "output_type": "execute_result"
    }
   ],
   "source": [
    "Input  = \"abcd\"\n",
    "\n",
    "CountSubstr(Input)"
   ]
  },
  {
   "cell_type": "code",
   "execution_count": 34,
   "metadata": {},
   "outputs": [
    {
     "data": {
      "text/plain": [
       "7"
      ]
     },
     "execution_count": 34,
     "metadata": {},
     "output_type": "execute_result"
    }
   ],
   "source": [
    "Input  = \"ramam\"\n",
    "\n",
    "CountSubstr(Input)"
   ]
  },
  {
   "cell_type": "markdown",
   "metadata": {},
   "source": [
    "## Great Job!"
   ]
  }
 ],
 "metadata": {
  "kernelspec": {
   "display_name": "Python 3",
   "language": "python",
   "name": "python3"
  },
  "language_info": {
   "codemirror_mode": {
    "name": "ipython",
    "version": 3
   },
   "file_extension": ".py",
   "mimetype": "text/x-python",
   "name": "python",
   "nbconvert_exporter": "python",
   "pygments_lexer": "ipython3",
   "version": "3.7.6"
  }
 },
 "nbformat": 4,
 "nbformat_minor": 2
}
